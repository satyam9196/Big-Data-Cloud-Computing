{
  "nbformat": 4,
  "nbformat_minor": 0,
  "metadata": {
    "colab": {
      "provenance": []
    },
    "kernelspec": {
      "name": "python3",
      "display_name": "Python 3"
    },
    "language_info": {
      "name": "python"
    }
  },
  "cells": [
    {
      "cell_type": "code",
      "execution_count": null,
      "metadata": {
        "id": "IO5GS4m6MDEp"
      },
      "outputs": [],
      "source": []
    },
    {
      "cell_type": "markdown",
      "source": [
        "# New Section"
      ],
      "metadata": {
        "id": "sxu6kTZnMMCp"
      }
    },
    {
      "cell_type": "code",
      "source": [
        "!pip install pyspark"
      ],
      "metadata": {
        "colab": {
          "base_uri": "https://localhost:8080/"
        },
        "id": "iW11MKupMdLJ",
        "outputId": "839e3317-4cbf-42d2-ba1c-297126f789d9"
      },
      "execution_count": null,
      "outputs": [
        {
          "output_type": "stream",
          "name": "stdout",
          "text": [
            "Requirement already satisfied: pyspark in /usr/local/lib/python3.11/dist-packages (3.5.1)\n",
            "Requirement already satisfied: py4j==0.10.9.7 in /usr/local/lib/python3.11/dist-packages (from pyspark) (0.10.9.7)\n"
          ]
        }
      ]
    },
    {
      "cell_type": "code",
      "source": [
        "from pyspark.sql import SparkSession\n",
        "spark = SparkSession.builder.appName('test').getOrCreate()"
      ],
      "metadata": {
        "id": "xnU8FeiTMu8y"
      },
      "execution_count": null,
      "outputs": []
    },
    {
      "cell_type": "code",
      "source": [
        "df = spark.read.csv('/content/TTTTTTT.csv')"
      ],
      "metadata": {
        "id": "PcA81jFoNM1u"
      },
      "execution_count": null,
      "outputs": []
    },
    {
      "cell_type": "code",
      "source": [
        "df.head(10)"
      ],
      "metadata": {
        "colab": {
          "base_uri": "https://localhost:8080/"
        },
        "id": "dwCVp6UYObHq",
        "outputId": "8c2dad00-4748-4f12-acea-521fac5c3bd4"
      },
      "execution_count": null,
      "outputs": [
        {
          "output_type": "execute_result",
          "data": {
            "text/plain": [
              "[Row(_c0='Name', _c1='Age', _c2='Location', _c3='Mark'),\n",
              " Row(_c0='A', _c1='16', _c2='Noida', _c3='50'),\n",
              " Row(_c0='I', _c1='17', _c2='Dehli', _c3='51'),\n",
              " Row(_c0='P', _c1='18', _c2='UP', _c3='52'),\n",
              " Row(_c0='K', _c1='19', _c2='JK', _c3='53'),\n",
              " Row(_c0='P', _c1='20', _c2='AP', _c3='54'),\n",
              " Row(_c0='M', _c1='21', _c2='M', _c3='55'),\n",
              " Row(_c0='N', _c1='22', _c2='N', _c3='56'),\n",
              " Row(_c0='M', _c1='23', _c2='M', _c3='57')]"
            ]
          },
          "metadata": {},
          "execution_count": 15
        }
      ]
    },
    {
      "cell_type": "code",
      "source": [
        "df.show()"
      ],
      "metadata": {
        "colab": {
          "base_uri": "https://localhost:8080/"
        },
        "id": "rqySyB_BOw3M",
        "outputId": "d5863ae8-1b14-4aab-92dc-bb8d9c3bc1d6"
      },
      "execution_count": null,
      "outputs": [
        {
          "output_type": "stream",
          "name": "stdout",
          "text": [
            "+----+---+--------+----+\n",
            "| _c0|_c1|     _c2| _c3|\n",
            "+----+---+--------+----+\n",
            "|Name|Age|Location|Mark|\n",
            "|   A| 16|   Noida|  50|\n",
            "|   I| 17|   Dehli|  51|\n",
            "|   P| 18|      UP|  52|\n",
            "|   K| 19|      JK|  53|\n",
            "|   P| 20|      AP|  54|\n",
            "|   M| 21|       M|  55|\n",
            "|   N| 22|       N|  56|\n",
            "|   M| 23|       M|  57|\n",
            "+----+---+--------+----+\n",
            "\n"
          ]
        }
      ]
    },
    {
      "cell_type": "code",
      "source": [
        "df.columns"
      ],
      "metadata": {
        "colab": {
          "base_uri": "https://localhost:8080/"
        },
        "id": "4oTv545JrQeY",
        "outputId": "a97f9e89-4898-4034-bf0d-0b5b2bc94fd6"
      },
      "execution_count": null,
      "outputs": [
        {
          "output_type": "execute_result",
          "data": {
            "text/plain": [
              "['_c0', '_c1', '_c2', '_c3']"
            ]
          },
          "metadata": {},
          "execution_count": 20
        }
      ]
    },
    {
      "cell_type": "code",
      "source": [
        "#column name select\n",
        "df.select(['_c0', '_c1']).show()"
      ],
      "metadata": {
        "id": "yIy9Ng7iPwe_",
        "colab": {
          "base_uri": "https://localhost:8080/"
        },
        "outputId": "a8dc77b6-7a01-41b2-b6fd-c04cdb938f45"
      },
      "execution_count": null,
      "outputs": [
        {
          "output_type": "stream",
          "name": "stdout",
          "text": [
            "+----+---+\n",
            "| _c0|_c1|\n",
            "+----+---+\n",
            "|Name|Age|\n",
            "|   A| 16|\n",
            "|   I| 17|\n",
            "|   P| 18|\n",
            "|   K| 19|\n",
            "|   P| 20|\n",
            "|   M| 21|\n",
            "|   N| 22|\n",
            "|   M| 23|\n",
            "+----+---+\n",
            "\n"
          ]
        }
      ]
    },
    {
      "cell_type": "code",
      "source": [
        "#drop\n",
        "df.drop('_c3').show()\n"
      ],
      "metadata": {
        "id": "Tkj_ts1aoqJC",
        "colab": {
          "base_uri": "https://localhost:8080/"
        },
        "outputId": "f5d87810-78a5-4b96-b3f7-8d5faeb2b94d"
      },
      "execution_count": null,
      "outputs": [
        {
          "output_type": "stream",
          "name": "stdout",
          "text": [
            "+----+---+--------+\n",
            "| _c0|_c1|     _c2|\n",
            "+----+---+--------+\n",
            "|Name|Age|Location|\n",
            "|   A| 16|   Noida|\n",
            "|   I| 17|   Dehli|\n",
            "|   P| 18|      UP|\n",
            "|   K| 19|      JK|\n",
            "|   P| 20|      AP|\n",
            "|   M| 21|       M|\n",
            "|   N| 22|       N|\n",
            "|   M| 23|       M|\n",
            "+----+---+--------+\n",
            "\n"
          ]
        }
      ]
    },
    {
      "cell_type": "code",
      "source": [
        "#column Rename\n",
        "df.withColumnRenamed('_c0','id').show()"
      ],
      "metadata": {
        "colab": {
          "base_uri": "https://localhost:8080/"
        },
        "id": "evGkldAprsRG",
        "outputId": "a52f6545-cca6-4924-d296-42560f53850c"
      },
      "execution_count": null,
      "outputs": [
        {
          "output_type": "stream",
          "name": "stdout",
          "text": [
            "+----+---+--------+----+\n",
            "|  id|_c1|     _c2| _c3|\n",
            "+----+---+--------+----+\n",
            "|Name|Age|Location|Mark|\n",
            "|   A| 16|   Noida|  50|\n",
            "|   I| 17|   Dehli|  51|\n",
            "|   P| 18|      UP|  52|\n",
            "|   K| 19|      JK|  53|\n",
            "|   P| 20|      AP|  54|\n",
            "|   M| 21|       M|  55|\n",
            "|   N| 22|       N|  56|\n",
            "|   M| 23|       M|  57|\n",
            "+----+---+--------+----+\n",
            "\n"
          ]
        }
      ]
    },
    {
      "cell_type": "code",
      "source": [
        "#Create a spark Session\n",
        "data=[('John',28), ('Alica',33), ('Bob',35)]\n",
        "columns=['Name','Age']\n",
        "df=spark.createDataFrame(data, columns)\n",
        "df.show()"
      ],
      "metadata": {
        "id": "wfTx2YPisKyY",
        "colab": {
          "base_uri": "https://localhost:8080/"
        },
        "outputId": "af05c4e4-09e9-4473-f0af-9a3fd0fe4fe3"
      },
      "execution_count": null,
      "outputs": [
        {
          "output_type": "stream",
          "name": "stdout",
          "text": [
            "+-----+---+\n",
            "| Name|Age|\n",
            "+-----+---+\n",
            "| John| 28|\n",
            "|Alica| 33|\n",
            "|  Bob| 35|\n",
            "+-----+---+\n",
            "\n"
          ]
        }
      ]
    },
    {
      "cell_type": "code",
      "source": [
        "#user filter select row\n",
        "df.filter(df.Age>30).show()"
      ],
      "metadata": {
        "id": "7YNJnL1Dwqdw",
        "colab": {
          "base_uri": "https://localhost:8080/"
        },
        "outputId": "f8c9ddb9-ae0d-42e7-e840-b76028546560"
      },
      "execution_count": null,
      "outputs": [
        {
          "output_type": "stream",
          "name": "stdout",
          "text": [
            "+-----+---+\n",
            "| Name|Age|\n",
            "+-----+---+\n",
            "|Alica| 33|\n",
            "|  Bob| 35|\n",
            "+-----+---+\n",
            "\n"
          ]
        }
      ]
    },
    {
      "cell_type": "code",
      "source": [
        "#check data type column\n",
        "df.printSchema()"
      ],
      "metadata": {
        "colab": {
          "base_uri": "https://localhost:8080/"
        },
        "id": "VDYCr0L2x2HH",
        "outputId": "57b57559-5161-45f2-cfec-ef685b19a03b"
      },
      "execution_count": null,
      "outputs": [
        {
          "output_type": "stream",
          "name": "stdout",
          "text": [
            "root\n",
            " |-- Name: string (nullable = true)\n",
            " |-- Age: long (nullable = true)\n",
            "\n"
          ]
        }
      ]
    },
    {
      "cell_type": "code",
      "source": [
        "data = [('Alica','Sales',1000),('Bob','Sales',1500),('Charlie','IT',2000), ('David','IT',2200),('Eve','HR',1200)]\n",
        "columns = ['Name','Department','Salary']\n",
        "df = spark.createDataFrame(data, columns)\n",
        "df.show()"
      ],
      "metadata": {
        "colab": {
          "base_uri": "https://localhost:8080/"
        },
        "id": "1M24wyb7z4vt",
        "outputId": "752207e2-5453-44ba-9e1e-41b21fb98296"
      },
      "execution_count": null,
      "outputs": [
        {
          "output_type": "stream",
          "name": "stdout",
          "text": [
            "+-------+----------+------+\n",
            "|   Name|Department|Salary|\n",
            "+-------+----------+------+\n",
            "|  Alica|     Sales|  1000|\n",
            "|    Bob|     Sales|  1500|\n",
            "|Charlie|        IT|  2000|\n",
            "|  David|        IT|  2200|\n",
            "|    Eve|        HR|  1200|\n",
            "+-------+----------+------+\n",
            "\n"
          ]
        }
      ]
    },
    {
      "cell_type": "code",
      "source": [
        "#group by department salary sum\n",
        "df.groupBy('Department').sum('Salary').alias('Total Salary').show()"
      ],
      "metadata": {
        "colab": {
          "base_uri": "https://localhost:8080/"
        },
        "id": "QvA0RCzD3yCA",
        "outputId": "c318a28c-3e01-4be9-a549-5839b72aed72"
      },
      "execution_count": null,
      "outputs": [
        {
          "output_type": "stream",
          "name": "stdout",
          "text": [
            "+----------+-----------+\n",
            "|Department|sum(Salary)|\n",
            "+----------+-----------+\n",
            "|     Sales|       2500|\n",
            "|        HR|       1200|\n",
            "|        IT|       4200|\n",
            "+----------+-----------+\n",
            "\n"
          ]
        }
      ]
    },
    {
      "cell_type": "code",
      "source": [
        "from pyspark.sql.functions import sum\n",
        "df.groupBy('Department').agg(sum('Salary').alias('Total_Salary')).show()"
      ],
      "metadata": {
        "colab": {
          "base_uri": "https://localhost:8080/"
        },
        "id": "flK_pjdT4Igk",
        "outputId": "c2878d54-56d5-48c3-f4e5-da67baadf78e"
      },
      "execution_count": null,
      "outputs": [
        {
          "output_type": "stream",
          "name": "stdout",
          "text": [
            "+----------+------------+\n",
            "|Department|Total_Salary|\n",
            "+----------+------------+\n",
            "|     Sales|        2500|\n",
            "|        HR|        1200|\n",
            "|        IT|        4200|\n",
            "+----------+------------+\n",
            "\n"
          ]
        }
      ]
    },
    {
      "cell_type": "code",
      "source": [],
      "metadata": {
        "id": "DNOSXJQq4_kC"
      },
      "execution_count": null,
      "outputs": []
    }
  ]
}