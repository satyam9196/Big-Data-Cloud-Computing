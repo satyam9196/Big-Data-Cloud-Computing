{
  "nbformat": 4,
  "nbformat_minor": 0,
  "metadata": {
    "colab": {
      "provenance": []
    },
    "kernelspec": {
      "name": "python3",
      "display_name": "Python 3"
    },
    "language_info": {
      "name": "python"
    }
  },
  "cells": [
    {
      "cell_type": "markdown",
      "source": [
        "1. Filter operation - extract rows from DF based on conditions.\n",
        "2. Logical operators\n",
        "  - AND operator - &\n",
        "  - OR operator - |\n",
        "3. Comparison operators ==,!="
      ],
      "metadata": {
        "id": "4V7ytm-YUyML"
      }
    },
    {
      "cell_type": "code",
      "source": [
        "!pip install pyspark"
      ],
      "metadata": {
        "colab": {
          "base_uri": "https://localhost:8080/"
        },
        "id": "7I8QLlslU0hA",
        "outputId": "e6d10e08-544d-4916-b7e1-acc2afc7ff42"
      },
      "execution_count": null,
      "outputs": [
        {
          "output_type": "stream",
          "name": "stdout",
          "text": [
            "Requirement already satisfied: pyspark in /usr/local/lib/python3.11/dist-packages (3.5.1)\n",
            "Requirement already satisfied: py4j==0.10.9.7 in /usr/local/lib/python3.11/dist-packages (from pyspark) (0.10.9.7)\n"
          ]
        }
      ]
    },
    {
      "cell_type": "code",
      "source": [
        "from pyspark.sql import SparkSession\n",
        "spark = SparkSession.builder.appName(\"pyspark_3\").getOrCreate()"
      ],
      "metadata": {
        "id": "Y_EwcvHpU2-J"
      },
      "execution_count": null,
      "outputs": []
    },
    {
      "cell_type": "code",
      "source": [
        "df = spark.read.csv(\"/content/Book1.csv\",header = True, inferSchema =True)"
      ],
      "metadata": {
        "id": "o8Oc-crMU6ob"
      },
      "execution_count": null,
      "outputs": []
    },
    {
      "cell_type": "code",
      "source": [
        "df.show()"
      ],
      "metadata": {
        "colab": {
          "base_uri": "https://localhost:8080/"
        },
        "id": "LyTw2mADbHao",
        "outputId": "727ba1a6-e957-4bed-bb13-7e6728536971"
      },
      "execution_count": null,
      "outputs": [
        {
          "output_type": "stream",
          "name": "stdout",
          "text": [
            "+----+---+--------+-----+\n",
            "|Name|Age|Location|Marks|\n",
            "+----+---+--------+-----+\n",
            "|   a| 11|   delhi|   83|\n",
            "|   b| 12|    pune|   56|\n",
            "|   c| 13|   bihar|   72|\n",
            "|   d| 14|   rachi|   67|\n",
            "|   e| 15|   delhi|   73|\n",
            "|   f| 16|   bihar|   65|\n",
            "|   g| 17|    pune|   54|\n",
            "|   h| 21|   delhi|   54|\n",
            "|   i| 19|      up|   76|\n",
            "|   j| 23|      up|   54|\n",
            "+----+---+--------+-----+\n",
            "\n"
          ]
        }
      ]
    },
    {
      "cell_type": "markdown",
      "source": [
        "**Filter Operator**"
      ],
      "metadata": {
        "id": "SVczsJ9QbaIR"
      }
    },
    {
      "cell_type": "code",
      "source": [
        "df.filter(\"Marks >65\").show()"
      ],
      "metadata": {
        "colab": {
          "base_uri": "https://localhost:8080/"
        },
        "id": "t4_L5CJCbdHL",
        "outputId": "13286ff6-d241-4d38-cae2-017458c876d4"
      },
      "execution_count": null,
      "outputs": [
        {
          "output_type": "stream",
          "name": "stdout",
          "text": [
            "+----+---+--------+-----+\n",
            "|Name|Age|Location|Marks|\n",
            "+----+---+--------+-----+\n",
            "|   a| 11|   delhi|   83|\n",
            "|   c| 13|   bihar|   72|\n",
            "|   d| 14|   rachi|   67|\n",
            "|   e| 15|   delhi|   73|\n",
            "|   i| 19|      up|   76|\n",
            "+----+---+--------+-----+\n",
            "\n"
          ]
        }
      ]
    },
    {
      "cell_type": "code",
      "source": [
        "df.filter(df['Marks'] >65).select(['Name','Age']).show()"
      ],
      "metadata": {
        "colab": {
          "base_uri": "https://localhost:8080/"
        },
        "id": "PVWJiU2Ubfnm",
        "outputId": "3f34fd05-863b-4e5e-a160-c84332bd959a"
      },
      "execution_count": null,
      "outputs": [
        {
          "output_type": "stream",
          "name": "stdout",
          "text": [
            "+----+---+\n",
            "|Name|Age|\n",
            "+----+---+\n",
            "|   a| 11|\n",
            "|   c| 13|\n",
            "|   d| 14|\n",
            "|   e| 15|\n",
            "|   i| 19|\n",
            "+----+---+\n",
            "\n"
          ]
        }
      ]
    },
    {
      "cell_type": "code",
      "source": [
        "# Multiple filter\n",
        "\n",
        "df.filter((df['Marks']>65) | (df['Marks'] <80)).show()"
      ],
      "metadata": {
        "colab": {
          "base_uri": "https://localhost:8080/"
        },
        "id": "YgSFJfMebnsI",
        "outputId": "6ff804fd-e7b0-4381-8446-6fd049da3d7d"
      },
      "execution_count": null,
      "outputs": [
        {
          "output_type": "stream",
          "name": "stdout",
          "text": [
            "+----+---+--------+-----+\n",
            "|Name|Age|Location|Marks|\n",
            "+----+---+--------+-----+\n",
            "|   a| 11|   delhi|   83|\n",
            "|   b| 12|    pune|   56|\n",
            "|   c| 13|   bihar|   72|\n",
            "|   d| 14|   rachi|   67|\n",
            "|   e| 15|   delhi|   73|\n",
            "|   f| 16|   bihar|   65|\n",
            "|   g| 17|    pune|   54|\n",
            "|   h| 21|   delhi|   54|\n",
            "|   i| 19|      up|   76|\n",
            "|   j| 23|      up|   54|\n",
            "+----+---+--------+-----+\n",
            "\n"
          ]
        }
      ]
    },
    {
      "cell_type": "code",
      "source": [
        "df.filter(df['Marks'] != 73).show()"
      ],
      "metadata": {
        "colab": {
          "base_uri": "https://localhost:8080/"
        },
        "id": "NaXEOFkccAez",
        "outputId": "9af3f07e-22d8-432e-c913-3b4640084d00"
      },
      "execution_count": null,
      "outputs": [
        {
          "output_type": "stream",
          "name": "stdout",
          "text": [
            "+----+---+--------+-----+\n",
            "|Name|Age|Location|Marks|\n",
            "+----+---+--------+-----+\n",
            "|   a| 11|   delhi|   83|\n",
            "|   b| 12|    pune|   56|\n",
            "|   c| 13|   bihar|   72|\n",
            "|   d| 14|   rachi|   67|\n",
            "|   f| 16|   bihar|   65|\n",
            "|   g| 17|    pune|   54|\n",
            "|   h| 21|   delhi|   54|\n",
            "|   i| 19|      up|   76|\n",
            "|   j| 23|      up|   54|\n",
            "+----+---+--------+-----+\n",
            "\n"
          ]
        }
      ]
    },
    {
      "cell_type": "code",
      "source": [
        "# Multiple filter\n",
        "df.filter(~(df['Marks']>65) & (df['Marks'] <85)).show()"
      ],
      "metadata": {
        "colab": {
          "base_uri": "https://localhost:8080/"
        },
        "id": "_kBFOcJ7epoC",
        "outputId": "85e2a49b-4803-4a11-92a4-f055118a9f2d"
      },
      "execution_count": null,
      "outputs": [
        {
          "output_type": "stream",
          "name": "stdout",
          "text": [
            "+----+---+--------+-----+\n",
            "|Name|Age|Location|Marks|\n",
            "+----+---+--------+-----+\n",
            "|   b| 12|    pune|   56|\n",
            "|   f| 16|   bihar|   65|\n",
            "|   g| 17|    pune|   54|\n",
            "|   h| 21|   delhi|   54|\n",
            "|   j| 23|      up|   54|\n",
            "+----+---+--------+-----+\n",
            "\n"
          ]
        }
      ]
    },
    {
      "cell_type": "markdown",
      "source": [
        "**collect()**"
      ],
      "metadata": {
        "id": "aMqTGdAtgo2n"
      }
    },
    {
      "cell_type": "code",
      "source": [
        "df_final = df.filter(df[\"Marks\"]>75).collect()\n",
        "df_final"
      ],
      "metadata": {
        "colab": {
          "base_uri": "https://localhost:8080/"
        },
        "id": "TRFg7tBVgtpt",
        "outputId": "8b4ef35c-c87d-44cd-e3c3-549fbbe1598d"
      },
      "execution_count": null,
      "outputs": [
        {
          "output_type": "execute_result",
          "data": {
            "text/plain": [
              "[Row(Name='a', Age=11, Location='delhi', Marks=83),\n",
              " Row(Name='i', Age=19, Location='up', Marks=76)]"
            ]
          },
          "metadata": {},
          "execution_count": 26
        }
      ]
    },
    {
      "cell_type": "code",
      "source": [
        "for row in df_final:\n",
        "  print(row)"
      ],
      "metadata": {
        "colab": {
          "base_uri": "https://localhost:8080/"
        },
        "id": "gXxtjdwGgyho",
        "outputId": "e214cee3-4ae1-4c90-99fd-bc3dc5f41aee"
      },
      "execution_count": null,
      "outputs": [
        {
          "output_type": "stream",
          "name": "stdout",
          "text": [
            "Row(Name='a', Age=11, Location='delhi', Marks=83)\n",
            "Row(Name='i', Age=19, Location='up', Marks=76)\n"
          ]
        }
      ]
    },
    {
      "cell_type": "code",
      "source": [
        "df_final[0][\"Name\"]"
      ],
      "metadata": {
        "colab": {
          "base_uri": "https://localhost:8080/",
          "height": 35
        },
        "id": "ZiURIRJog7sW",
        "outputId": "9f6d16c6-5bb1-44a9-b179-7d772ea88a69"
      },
      "execution_count": null,
      "outputs": [
        {
          "output_type": "execute_result",
          "data": {
            "text/plain": [
              "'a'"
            ],
            "application/vnd.google.colaboratory.intrinsic+json": {
              "type": "string"
            }
          },
          "metadata": {},
          "execution_count": 31
        }
      ]
    },
    {
      "cell_type": "code",
      "source": [
        "df_final[1][\"Name\"]"
      ],
      "metadata": {
        "colab": {
          "base_uri": "https://localhost:8080/",
          "height": 35
        },
        "id": "9AD9HHgVg_Hs",
        "outputId": "b2305c4c-8f8a-4999-e466-9d2e20245a7d"
      },
      "execution_count": null,
      "outputs": [
        {
          "output_type": "execute_result",
          "data": {
            "text/plain": [
              "'i'"
            ],
            "application/vnd.google.colaboratory.intrinsic+json": {
              "type": "string"
            }
          },
          "metadata": {},
          "execution_count": 32
        }
      ]
    },
    {
      "cell_type": "code",
      "source": [
        "df_final[0][\"Age\"]"
      ],
      "metadata": {
        "colab": {
          "base_uri": "https://localhost:8080/"
        },
        "id": "buU5miUJhSwe",
        "outputId": "b29b9463-e363-467a-844f-97f8c7340475"
      },
      "execution_count": null,
      "outputs": [
        {
          "output_type": "execute_result",
          "data": {
            "text/plain": [
              "11"
            ]
          },
          "metadata": {},
          "execution_count": 33
        }
      ]
    }
  ]
}