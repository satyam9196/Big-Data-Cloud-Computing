{
  "nbformat": 4,
  "nbformat_minor": 0,
  "metadata": {
    "colab": {
      "provenance": []
    },
    "kernelspec": {
      "name": "python3",
      "display_name": "Python 3"
    },
    "language_info": {
      "name": "python"
    }
  },
  "cells": [
    {
      "cell_type": "code",
      "execution_count": null,
      "metadata": {
        "colab": {
          "base_uri": "https://localhost:8080/"
        },
        "id": "glkisgGe80OT",
        "outputId": "05d950c9-07cf-41be-dfb7-d92cd5ce6067"
      },
      "outputs": [
        {
          "output_type": "stream",
          "name": "stdout",
          "text": [
            "Requirement already satisfied: pyspark in /usr/local/lib/python3.11/dist-packages (3.5.1)\n",
            "Requirement already satisfied: py4j==0.10.9.7 in /usr/local/lib/python3.11/dist-packages (from pyspark) (0.10.9.7)\n"
          ]
        }
      ],
      "source": [
        "!pip install pyspark"
      ]
    },
    {
      "cell_type": "code",
      "source": [
        "from pyspark.sql import SparkSession\n",
        "spark = SparkSession.builder.appName(\"pyspark_5\").getOrCreate()"
      ],
      "metadata": {
        "id": "i7cNH8yn81kF"
      },
      "execution_count": null,
      "outputs": []
    },
    {
      "cell_type": "code",
      "source": [
        "\n",
        "data1 = [\n",
        "    (\"Mark\",1000),\n",
        "    (\"Bob\",1500),\n",
        "    (\"Charlie\",2000),\n",
        "    (\"David\",2200),\n",
        "    (\"Eve\",1200),\n",
        "]"
      ],
      "metadata": {
        "id": "NpI_9DSI8-IE"
      },
      "execution_count": null,
      "outputs": []
    },
    {
      "cell_type": "code",
      "source": [
        "employeeDF = spark.createDataFrame(data1,[\"name\",\"salary\"])\n",
        "employeeDF.show()"
      ],
      "metadata": {
        "colab": {
          "base_uri": "https://localhost:8080/"
        },
        "id": "8Y6AYFGE9UEk",
        "outputId": "048815d9-1787-4831-a7e0-d53c06ae0b50"
      },
      "execution_count": null,
      "outputs": [
        {
          "output_type": "stream",
          "name": "stdout",
          "text": [
            "+-------+------+\n",
            "|   name|salary|\n",
            "+-------+------+\n",
            "|   Mark|  1000|\n",
            "|    Bob|  1500|\n",
            "|Charlie|  2000|\n",
            "|  David|  2200|\n",
            "|    Eve|  1200|\n",
            "+-------+------+\n",
            "\n"
          ]
        }
      ]
    },
    {
      "cell_type": "code",
      "source": [
        "#create 2nd dataframe\n",
        "\n",
        "data2 = [\n",
        "    (\"Alice\", \"Sales\"),\n",
        "    (\"Bob\", \"Sales\"),\n",
        "    (\"Charlie\", \"IT\"),\n",
        "    (\"David\", \"IT\"),\n",
        "    (\"Eve\", \"HR\"),\n",
        "]\n",
        "column2 = [\"Employee_name\", \"Department\"]\n",
        "\n",
        "departmentDF = spark.createDataFrame(data2, column2)\n",
        "departmentDF.show()\n"
      ],
      "metadata": {
        "colab": {
          "base_uri": "https://localhost:8080/"
        },
        "id": "3hZ9hJtp9wJU",
        "outputId": "a45723f9-793e-4031-f3ec-646f21bf3b45"
      },
      "execution_count": null,
      "outputs": [
        {
          "output_type": "stream",
          "name": "stdout",
          "text": [
            "+-------------+----------+\n",
            "|Employee_name|Department|\n",
            "+-------------+----------+\n",
            "|        Alice|     Sales|\n",
            "|          Bob|     Sales|\n",
            "|      Charlie|        IT|\n",
            "|        David|        IT|\n",
            "|          Eve|        HR|\n",
            "+-------------+----------+\n",
            "\n"
          ]
        }
      ]
    },
    {
      "cell_type": "code",
      "source": [
        "#inner join\n",
        "\n",
        "inner_join_df = employeeDF.join(departmentDF, employeeDF.name == departmentDF.Employee_name, \"inner\").show()"
      ],
      "metadata": {
        "colab": {
          "base_uri": "https://localhost:8080/"
        },
        "id": "4bJoGf9R-LRl",
        "outputId": "a5ec662f-1341-4de5-b0ec-6f6f7065e8e7"
      },
      "execution_count": null,
      "outputs": [
        {
          "output_type": "stream",
          "name": "stdout",
          "text": [
            "+-------+------+-------------+----------+\n",
            "|   name|salary|Employee_name|Department|\n",
            "+-------+------+-------------+----------+\n",
            "|    Bob|  1500|          Bob|     Sales|\n",
            "|Charlie|  2000|      Charlie|        IT|\n",
            "|  David|  2200|        David|        IT|\n",
            "|    Eve|  1200|          Eve|        HR|\n",
            "+-------+------+-------------+----------+\n",
            "\n"
          ]
        }
      ]
    },
    {
      "cell_type": "code",
      "source": [
        "#outer Join\n",
        "\n",
        "outer_join_df = employeeDF.join(departmentDF, employeeDF.name == departmentDF.Employee_name, \"outer\").show()"
      ],
      "metadata": {
        "colab": {
          "base_uri": "https://localhost:8080/"
        },
        "id": "QCbmWYGX_R4l",
        "outputId": "b013940d-8efb-421c-9efc-87cf033d98bc"
      },
      "execution_count": null,
      "outputs": [
        {
          "output_type": "stream",
          "name": "stdout",
          "text": [
            "+-------+------+-------------+----------+\n",
            "|   name|salary|Employee_name|Department|\n",
            "+-------+------+-------------+----------+\n",
            "|   NULL|  NULL|        Alice|     Sales|\n",
            "|    Bob|  1500|          Bob|     Sales|\n",
            "|Charlie|  2000|      Charlie|        IT|\n",
            "|  David|  2200|        David|        IT|\n",
            "|    Eve|  1200|          Eve|        HR|\n",
            "|   Mark|  1000|         NULL|      NULL|\n",
            "+-------+------+-------------+----------+\n",
            "\n"
          ]
        }
      ]
    },
    {
      "cell_type": "code",
      "source": [
        "#left join\n",
        "\n",
        "left_join_df = employeeDF.join(departmentDF, employeeDF.name == departmentDF.Employee_name, \"left\").show()"
      ],
      "metadata": {
        "colab": {
          "base_uri": "https://localhost:8080/"
        },
        "id": "6j9KuggbD4SG",
        "outputId": "18fe15e1-7792-43f1-f684-85bbb472f0a8"
      },
      "execution_count": null,
      "outputs": [
        {
          "output_type": "stream",
          "name": "stdout",
          "text": [
            "+-------+------+-------------+----------+\n",
            "|   name|salary|Employee_name|Department|\n",
            "+-------+------+-------------+----------+\n",
            "|    Bob|  1500|          Bob|     Sales|\n",
            "|   Mark|  1000|         NULL|      NULL|\n",
            "|Charlie|  2000|      Charlie|        IT|\n",
            "|    Eve|  1200|          Eve|        HR|\n",
            "|  David|  2200|        David|        IT|\n",
            "+-------+------+-------------+----------+\n",
            "\n"
          ]
        }
      ]
    },
    {
      "cell_type": "code",
      "source": [
        "#right join\n",
        "\n",
        "right_join_df = employeeDF.join(departmentDF, employeeDF.name == departmentDF.Employee_name, \"right\").show()"
      ],
      "metadata": {
        "colab": {
          "base_uri": "https://localhost:8080/"
        },
        "id": "xFESblazEYr2",
        "outputId": "0552710f-d35f-4f55-eea3-238af9ffdb1e"
      },
      "execution_count": null,
      "outputs": [
        {
          "output_type": "stream",
          "name": "stdout",
          "text": [
            "+-------+------+-------------+----------+\n",
            "|   name|salary|Employee_name|Department|\n",
            "+-------+------+-------------+----------+\n",
            "|    Bob|  1500|          Bob|     Sales|\n",
            "|   NULL|  NULL|        Alice|     Sales|\n",
            "|Charlie|  2000|      Charlie|        IT|\n",
            "|    Eve|  1200|          Eve|        HR|\n",
            "|  David|  2200|        David|        IT|\n",
            "+-------+------+-------------+----------+\n",
            "\n"
          ]
        }
      ]
    },
    {
      "cell_type": "code",
      "source": [
        "#leftsemi join\n",
        "\n",
        "leftsemi_join_df = employeeDF.join(DepartmentDF, employeeDF.name == departmentDF.Employee_name, \"leftsemi\").show()"
      ],
      "metadata": {
        "colab": {
          "base_uri": "https://localhost:8080/"
        },
        "id": "TcWldxF5EkdH",
        "outputId": "916854c9-b6fd-4ed0-84d3-b66036caa817"
      },
      "execution_count": null,
      "outputs": [
        {
          "output_type": "stream",
          "name": "stdout",
          "text": [
            "+-------+------+\n",
            "|   name|salary|\n",
            "+-------+------+\n",
            "|    Bob|  1500|\n",
            "|Charlie|  2000|\n",
            "|  David|  2200|\n",
            "|    Eve|  1200|\n",
            "+-------+------+\n",
            "\n"
          ]
        }
      ]
    },
    {
      "cell_type": "code",
      "source": [
        "#left anti join\n",
        "left_anti_join_df = employeeDF.join(departmentDF, employeeDF.name == departmentDF.Employee_name, \"leftanti\").show()"
      ],
      "metadata": {
        "colab": {
          "base_uri": "https://localhost:8080/"
        },
        "id": "S6Ul-nL2FJEX",
        "outputId": "d549a3d2-e0f6-4b70-8a36-d43aabc04549"
      },
      "execution_count": null,
      "outputs": [
        {
          "output_type": "stream",
          "name": "stdout",
          "text": [
            "+----+------+\n",
            "|name|salary|\n",
            "+----+------+\n",
            "|Mark|  1000|\n",
            "+----+------+\n",
            "\n"
          ]
        }
      ]
    },
    {
      "cell_type": "code",
      "source": [],
      "metadata": {
        "id": "Y0NqNiwQFl42"
      },
      "execution_count": null,
      "outputs": []
    }
  ]
}